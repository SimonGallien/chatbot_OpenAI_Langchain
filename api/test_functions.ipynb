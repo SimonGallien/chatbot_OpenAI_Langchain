{
 "cells": [
  {
   "cell_type": "code",
   "execution_count": 2,
   "id": "b308b71f",
   "metadata": {},
   "outputs": [],
   "source": [
    "from chain import summarize"
   ]
  },
  {
   "cell_type": "code",
   "execution_count": 3,
   "id": "185c72dc",
   "metadata": {},
   "outputs": [
    {
     "data": {
      "text/plain": [
       "\"Final Fantasy VII is a role-playing video game developed by Square Enix and released in 1997 on the PlayStation. The game follows the story of a group of eco-terrorists fighting against a powerful organization called Shinra. The game was a huge critical and commercial success, selling over 9.7 million copies worldwide. It was the first Final Fantasy game to use 3D graphics and real-time characters. The game's success led to a series of sequels and prequels, as well as a remake trilogy. Final Fantasy VII is considered one of the most influential games in the history of video games, popularizing the inclusion of cinematic sequences and advancing the role-playing genre. The game's universe has been expanded through various spin-offs, films, and other media.\""
      ]
     },
     "execution_count": 3,
     "metadata": {},
     "output_type": "execute_result"
    }
   ],
   "source": [
    "with open('histoire_ff7.txt', 'r') as fichier:\n",
    "    contenu = fichier.read()\n",
    "summarize(contenu)"
   ]
  },
  {
   "cell_type": "code",
   "execution_count": null,
   "id": "0044f4fe",
   "metadata": {},
   "outputs": [],
   "source": []
  }
 ],
 "metadata": {
  "kernelspec": {
   "display_name": "chatbot-openai-langchain-py3.12",
   "language": "python",
   "name": "python3"
  },
  "language_info": {
   "codemirror_mode": {
    "name": "ipython",
    "version": 3
   },
   "file_extension": ".py",
   "mimetype": "text/x-python",
   "name": "python",
   "nbconvert_exporter": "python",
   "pygments_lexer": "ipython3",
   "version": "3.12.3"
  }
 },
 "nbformat": 4,
 "nbformat_minor": 5
}
