{
 "cells": [
  {
   "cell_type": "code",
   "execution_count": 12,
   "id": "b308b71f",
   "metadata": {},
   "outputs": [],
   "source": [
    "from chain import summarize"
   ]
  },
  {
   "cell_type": "code",
   "execution_count": 16,
   "id": "185c72dc",
   "metadata": {},
   "outputs": [
    {
     "data": {
      "text/plain": [
       "\"Final Fantasy VII est un jeu vidéo de rôle sorti en 1997 sur Playstation, qui a rencontré un immense succès critique et commercial. L'histoire du jeu se déroule dans un univers de science-fiction où un groupe éco-terroriste lutte contre une puissante organisation exploitant l'énergie vitale de la planète. Le jeu a introduit des graphismes en 3D et des cinématiques impressionnantes. Il s'est vendu à plus de 9,7 millions d'exemplaires dans le monde, contribuant au succès de la PlayStation et à l'exportation des RPG hors du Japon. Une série de suites et de préquelles, regroupées sous le titre de Compilation of Final Fantasy VII, ont été produites à partir de 2004. Un remake du jeu est en cours de publication par Square Enix. Le jeu a eu une influence majeure sur l'industrie du jeu vidéo, popularisant l'utilisation de cinématiques et de séquences en image de synthèse.\""
      ]
     },
     "execution_count": 16,
     "metadata": {},
     "output_type": "execute_result"
    }
   ],
   "source": [
    "with open('histoire_ff7.txt', 'r') as fichier:\n",
    "    contenu = fichier.read()\n",
    "summarize(contenu)"
   ]
  },
  {
   "cell_type": "code",
   "execution_count": null,
   "id": "0044f4fe",
   "metadata": {},
   "outputs": [],
   "source": []
  }
 ],
 "metadata": {
  "kernelspec": {
   "display_name": "chatbot-openai-langchain-py3.12",
   "language": "python",
   "name": "python3"
  },
  "language_info": {
   "codemirror_mode": {
    "name": "ipython",
    "version": 3
   },
   "file_extension": ".py",
   "mimetype": "text/x-python",
   "name": "python",
   "nbconvert_exporter": "python",
   "pygments_lexer": "ipython3",
   "version": "3.12.3"
  }
 },
 "nbformat": 4,
 "nbformat_minor": 5
}
