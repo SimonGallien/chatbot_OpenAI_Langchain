{
 "cells": [
  {
   "cell_type": "code",
   "execution_count": 1,
   "id": "b308b71f",
   "metadata": {},
   "outputs": [],
   "source": [
    "from chain import summarize"
   ]
  },
  {
   "cell_type": "code",
   "execution_count": 2,
   "id": "185c72dc",
   "metadata": {},
   "outputs": [
    {
     "name": "stdout",
     "output_type": "stream",
     "text": [
      "Final Fantasy VII is a role-playing video game developed by Square Enix and released in 1997 on the PlayStation. It is the seventh installment in the Final Fantasy series and the first to use 3D graphics. The game follows the story of an eco-terrorist group called Avalanche fighting against a powerful organization called Shinra. The game was a huge critical and commercial success, selling over 9.7 million copies worldwide. It has had a significant impact on the gaming industry and has inspired a series of sequels, prequels, and a remake. The game's influence can be seen in its use of cinematic storytelling, advanced graphics, and memorable characters like Cloud and Sephiroth.\n"
     ]
    }
   ],
   "source": [
    "with open('histoire_ff7.txt', 'r') as fichier:\n",
    "    contenu = fichier.read()\n",
    "summary = summarize(contenu)\n",
    "print(summary)"
   ]
  },
  {
   "cell_type": "code",
   "execution_count": 3,
   "id": "0044f4fe",
   "metadata": {},
   "outputs": [],
   "source": [
    "from langgraph.checkpoint.memory import MemorySaver\n",
    "from langgraph.graph import StateGraph, START, END\n",
    "from chain import State, call_model, summarize_history, should_continue, print_update"
   ]
  },
  {
   "cell_type": "code",
   "execution_count": 4,
   "id": "29302071",
   "metadata": {},
   "outputs": [],
   "source": [
    "# Define graph as before:\n",
    "workflow = StateGraph(State)\n",
    "\n",
    "# Define the conversation node and the summarize node\n",
    "workflow.add_node(\"conversation\", lambda input: call_model(state=input, conversation_summary=summary))\n",
    "workflow.add_node(summarize_history)\n",
    "\n",
    "# Set the entrypoint as conversation\n",
    "workflow.add_edge(START, \"conversation\")\n",
    "\n",
    "# We now add a conditional edge\n",
    "workflow.add_conditional_edges(\n",
    "    \"conversation\",\n",
    "    should_continue,\n",
    ")\n",
    "\n",
    "workflow.add_edge(\"summarize_history\", END)\n",
    "\n",
    "# Finally, we compile it!\n",
    "memory = MemorySaver()\n",
    "app = workflow.compile(checkpointer=memory)"
   ]
  },
  {
   "cell_type": "code",
   "execution_count": 7,
   "id": "d55aee84",
   "metadata": {},
   "outputs": [
    {
     "name": "stdout",
     "output_type": "stream",
     "text": [
      "================================\u001b[1m Human Message \u001b[0m=================================\n",
      "\n",
      "Quels sont les personnages principaux de FF7 ?\n",
      "==================================\u001b[1m Ai Message \u001b[0m==================================\n",
      "\n",
      "Les personnages principaux de Final Fantasy VII sont Cloud Strife, Tifa Lockhart, Aerith Gainsborough, Barret Wallace, Red XIII, Cait Sith, Cid Highwind, Vincent Valentine, and Yuffie Kisaragi. Ces personnages jouent des rôles importants dans l'histoire du jeu et ont chacun leurs propres motivations et développements de personnalité.\n",
      "================================\u001b[1m Human Message \u001b[0m=================================\n",
      "\n",
      "Parmi eux qui ont une épée ?\n",
      "==================================\u001b[1m Ai Message \u001b[0m==================================\n",
      "\n",
      "Parmi les personnages principaux de Final Fantasy VII, Cloud Strife est le personnage principal qui est le plus associé à une épée emblématique appelée \"Buster Sword\". Cette épée massive et distinctive est l'arme principale de Cloud et est devenue un symbole emblématique du jeu.\n",
      "================================\u001b[1m Remove Message \u001b[0m================================\n",
      "\n",
      "\n",
      "================================\u001b[1m Remove Message \u001b[0m================================\n",
      "\n",
      "\n",
      "================================\u001b[1m Remove Message \u001b[0m================================\n",
      "\n",
      "\n",
      "================================\u001b[1m Remove Message \u001b[0m================================\n",
      "\n",
      "\n",
      "================================\u001b[1m Remove Message \u001b[0m================================\n",
      "\n",
      "\n",
      "================================\u001b[1m Remove Message \u001b[0m================================\n",
      "\n",
      "\n",
      "No problem! If you have any other questions or need assistance with anything else, feel free to ask. I'm here to help!\n"
     ]
    }
   ],
   "source": [
    "from langchain_core.messages import HumanMessage\n",
    "\n",
    "config = {\"configurable\": {\"thread_id\": \"4\"}}\n",
    "input_message = HumanMessage(content=\"Quels sont les personnages principaux de FF7 ?\")\n",
    "input_message.pretty_print()\n",
    "for event in app.stream({\"messages\": [input_message]}, config, stream_mode=\"updates\"):\n",
    "    print_update(event)\n",
    "\n",
    "\n",
    "input_message = HumanMessage(content=\"Parmi eux qui ont une épée ?\")\n",
    "input_message.pretty_print()\n",
    "for event in app.stream({\"messages\": [input_message]}, config, stream_mode=\"updates\"):\n",
    "    print_update(event)"
   ]
  },
  {
   "cell_type": "code",
   "execution_count": null,
   "id": "c35b6d8d",
   "metadata": {},
   "outputs": [],
   "source": []
  }
 ],
 "metadata": {
  "kernelspec": {
   "display_name": "chatbot-openai-langchain-py3.12",
   "language": "python",
   "name": "python3"
  },
  "language_info": {
   "codemirror_mode": {
    "name": "ipython",
    "version": 3
   },
   "file_extension": ".py",
   "mimetype": "text/x-python",
   "name": "python",
   "nbconvert_exporter": "python",
   "pygments_lexer": "ipython3",
   "version": "3.12.3"
  }
 },
 "nbformat": 4,
 "nbformat_minor": 5
}
